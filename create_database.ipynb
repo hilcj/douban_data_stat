{
 "cells": [
  {
   "cell_type": "markdown",
   "metadata": {},
   "source": [
    "# Environment"
   ]
  },
  {
   "cell_type": "code",
   "execution_count": 23,
   "metadata": {},
   "outputs": [],
   "source": [
    "import pandas as pd\n",
    "import numpy as np\n",
    "import matplotlib as mpl\n",
    "from matplotlib import pyplot as plt\n",
    "import json\n",
    "import os"
   ]
  },
  {
   "cell_type": "markdown",
   "metadata": {},
   "source": [
    "# Function"
   ]
  },
  {
   "cell_type": "code",
   "execution_count": 24,
   "metadata": {},
   "outputs": [],
   "source": [
    "def ReadRatingInfo(film_id):\n",
    "  with open(\"data/each_film/%s.json\" % film_id, \"rb\") as f:\n",
    "    json_raw = f.read()\n",
    "  try:\n",
    "    film = json.loads(json_raw)\n",
    "    item = pd.DataFrame({\"film_id\" : [film_id],\n",
    "                         \"title\" : [film[\"title\"]],\n",
    "                         \"genres\" : [\":\".join(film[\"genres\"])],\n",
    "                         \"rating_details_1\" : [film[\"rating\"][\"details\"][\"1\"]],\n",
    "                         \"rating_details_2\" : [film[\"rating\"][\"details\"][\"2\"]],\n",
    "                         \"rating_details_3\" : [film[\"rating\"][\"details\"][\"3\"]],\n",
    "                         \"rating_details_4\" : [film[\"rating\"][\"details\"][\"4\"]],\n",
    "                         \"rating_details_5\" : [film[\"rating\"][\"details\"][\"5\"]],\n",
    "                         \"rating_average\" : [film[\"rating\"][\"average\"]]})\n",
    "    return item\n",
    "  except:\n",
    "    return False"
   ]
  },
  {
   "cell_type": "code",
   "execution_count": 25,
   "metadata": {},
   "outputs": [],
   "source": [
    "def ReadAllInfo():\n",
    "  import glob\n",
    "  film_ids = [os.path.basename(path).split(\".\")[0] for path in glob.glob(\"data/each_film/*.json\")]\n",
    "  \n",
    "  import tqdm\n",
    "  items = []\n",
    "  for film_id in tqdm.tqdm_notebook(film_ids):\n",
    "    item = ReadRatingInfo(film_id)\n",
    "    if item is not False:\n",
    "      items.append(item)\n",
    "  return pd.concat(items, axis=0)"
   ]
  },
  {
   "cell_type": "markdown",
   "metadata": {},
   "source": [
    "# Dev"
   ]
  },
  {
   "cell_type": "markdown",
   "metadata": {},
   "source": [
    "# Run"
   ]
  },
  {
   "cell_type": "code",
   "execution_count": 26,
   "metadata": {},
   "outputs": [
    {
     "data": {
      "application/vnd.jupyter.widget-view+json": {
       "model_id": "75d32831f57a4c10a35061f93e132c56",
       "version_major": 2,
       "version_minor": 0
      },
      "text/plain": [
       "HBox(children=(IntProgress(value=0, max=41960), HTML(value='')))"
      ]
     },
     "metadata": {},
     "output_type": "display_data"
    },
    {
     "name": "stdout",
     "output_type": "stream",
     "text": [
      "\n"
     ]
    }
   ],
   "source": [
    "database = ReadAllInfo()"
   ]
  },
  {
   "cell_type": "code",
   "execution_count": 27,
   "metadata": {},
   "outputs": [],
   "source": [
    "database.to_csv(\"data/films_rating_info.csv\", index=False)"
   ]
  },
  {
   "cell_type": "code",
   "execution_count": 28,
   "metadata": {},
   "outputs": [
    {
     "data": {
      "text/plain": [
       "(41911, 9)"
      ]
     },
     "execution_count": 28,
     "metadata": {},
     "output_type": "execute_result"
    }
   ],
   "source": [
    "database.shape"
   ]
  },
  {
   "cell_type": "markdown",
   "metadata": {},
   "source": [
    "# View"
   ]
  },
  {
   "cell_type": "code",
   "execution_count": null,
   "metadata": {},
   "outputs": [],
   "source": []
  }
 ],
 "metadata": {
  "kernelspec": {
   "display_name": "Python 3",
   "language": "python",
   "name": "python3"
  },
  "language_info": {
   "codemirror_mode": {
    "name": "ipython",
    "version": 3
   },
   "file_extension": ".py",
   "mimetype": "text/x-python",
   "name": "python",
   "nbconvert_exporter": "python",
   "pygments_lexer": "ipython3",
   "version": "3.7.1"
  }
 },
 "nbformat": 4,
 "nbformat_minor": 2
}
