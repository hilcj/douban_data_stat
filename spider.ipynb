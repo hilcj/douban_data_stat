{
 "cells": [
  {
   "cell_type": "markdown",
   "metadata": {},
   "source": [
    "# Environment"
   ]
  },
  {
   "cell_type": "code",
   "execution_count": 10,
   "metadata": {},
   "outputs": [],
   "source": [
    "import pandas as pd\n",
    "import numpy as np\n",
    "import matplotlib as mpl\n",
    "from matplotlib import pyplot as plt\n",
    "import json\n",
    "import urllib\n",
    "import re\n",
    "import os"
   ]
  },
  {
   "cell_type": "markdown",
   "metadata": {},
   "source": [
    "# Function"
   ]
  },
  {
   "cell_type": "code",
   "execution_count": 11,
   "metadata": {},
   "outputs": [],
   "source": [
    "def RequestFilmInfo(film_id):\n",
    "  api_key = \"0b2bdeda43b5688921839c8ecb20399b\"\n",
    "  city = \"shanghai\"\n",
    "  client = \"Nothing\"\n",
    "  udid = \"Nothing\"\n",
    "  request_url_fmt = \"http://api.douban.com/v2/movie/subject/%s?apikey=%s&city=%s&client=%s&udid=%s\"\n",
    "  r = urllib.request.urlopen(request_url_fmt % (film_id, api_key, city, client, udid))\n",
    "  return r.read()"
   ]
  },
  {
   "cell_type": "code",
   "execution_count": 12,
   "metadata": {},
   "outputs": [],
   "source": [
    "def GetFilmIdFromUrl(url):\n",
    "  try:\n",
    "    result = re.fullmatch(\"https://movie.douban.com/subject/(.\\\\d+)/\", url)\n",
    "    return result[1]\n",
    "  except:\n",
    "    return False"
   ]
  },
  {
   "cell_type": "code",
   "execution_count": 18,
   "metadata": {},
   "outputs": [],
   "source": [
    "def ScanDouban():\n",
    "  # Film list\n",
    "  with open(\"data/films.json\", \"rb\") as f:\n",
    "    film_list_raw = f.read()\n",
    "  film_list = []\n",
    "  for item in film_list_raw.split(b\"\\n\"):\n",
    "    try:\n",
    "      json.loads(item)\n",
    "      film_list.append(json.loads(item))\n",
    "    except:\n",
    "      pass\n",
    "  \n",
    "  # Get Film Info\n",
    "  import tqdm\n",
    "#   import time\n",
    "#   import random\n",
    "\n",
    "  np.random.shuffle(film_list)\n",
    "  \n",
    "  for film in tqdm.tqdm_notebook(film_list):\n",
    "    film_id = GetFilmIdFromUrl(film[\"film_page\"])\n",
    "    json_path = \"data/each_film/%s.json\" % (film_id)\n",
    "    if film_id is False or os.path.exists(json_path):\n",
    "      continue\n",
    "    else:\n",
    "      try:\n",
    "        film_info = RequestFilmInfo(film_id)\n",
    "#         time.sleep(random.randint(0, 5))\n",
    "        with open(json_path, \"wb\") as f:\n",
    "          f.write(film_info)      \n",
    "      except:\n",
    "        with open(json_path, \"wb\") as f:\n",
    "          f.write(b\"error\")"
   ]
  },
  {
   "cell_type": "markdown",
   "metadata": {},
   "source": [
    "# Dev"
   ]
  },
  {
   "cell_type": "code",
   "execution_count": 17,
   "metadata": {},
   "outputs": [
    {
     "data": {
      "application/vnd.jupyter.widget-view+json": {
       "model_id": "70e1f112ccb0435d94e4f25016a6ab6e",
       "version_major": 2,
       "version_minor": 0
      },
      "text/plain": [
       "HBox(children=(IntProgress(value=0, max=41916), HTML(value='')))"
      ]
     },
     "metadata": {},
     "output_type": "display_data"
    },
    {
     "name": "stdout",
     "output_type": "stream",
     "text": [
      "\n"
     ]
    }
   ],
   "source": [
    "import glob\n",
    "import tqdm\n",
    "for file in tqdm.tqdm_notebook(glob.glob(\"data/each_film/*.json\")):\n",
    "  to_remove = False\n",
    "  with open(file, \"rb\") as f:\n",
    "    if f.read() == b\"error\":\n",
    "      to_remove = True\n",
    "  if to_remove:\n",
    "    os.remove(file)"
   ]
  },
  {
   "cell_type": "markdown",
   "metadata": {},
   "source": [
    "# Run"
   ]
  },
  {
   "cell_type": "code",
   "execution_count": 19,
   "metadata": {},
   "outputs": [
    {
     "data": {
      "application/vnd.jupyter.widget-view+json": {
       "model_id": "9b77717e496248b389c23852856c5e7f",
       "version_major": 2,
       "version_minor": 0
      },
      "text/plain": [
       "HBox(children=(IntProgress(value=0, max=41960), HTML(value='')))"
      ]
     },
     "metadata": {},
     "output_type": "display_data"
    },
    {
     "name": "stdout",
     "output_type": "stream",
     "text": [
      "\n"
     ]
    }
   ],
   "source": [
    "ScanDouban()"
   ]
  },
  {
   "cell_type": "markdown",
   "metadata": {},
   "source": [
    "# View"
   ]
  }
 ],
 "metadata": {
  "kernelspec": {
   "display_name": "Python 3",
   "language": "python",
   "name": "python3"
  },
  "language_info": {
   "codemirror_mode": {
    "name": "ipython",
    "version": 3
   },
   "file_extension": ".py",
   "mimetype": "text/x-python",
   "name": "python",
   "nbconvert_exporter": "python",
   "pygments_lexer": "ipython3",
   "version": "3.7.1"
  }
 },
 "nbformat": 4,
 "nbformat_minor": 2
}
